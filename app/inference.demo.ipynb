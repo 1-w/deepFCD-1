{
 "cells": [
  {
   "cell_type": "markdown",
   "metadata": {
    "tags": []
   },
   "source": [
    "#### How to use this notebook?\n",
    "\n",
    "```\n",
    "conda activate deepFCD\n",
    "pip install jupyterlab\n",
    "git clone https://github.com/NOEL-MNI/deepFCD\n",
    "cd deepFCD/app\n",
    "```\n",
    "\n",
    "- Using the GPU: cuda0\n",
    "    ```\n",
    "    THEANO_FLAGS=mode=FAST_RUN,device=cuda0,floatX=float32,dnn.enabled=False jupyter lab --no-browser .\n",
    "    ```\n",
    "\n",
    "- Using the GPU: cudaX [replace X with the desired GPU-ID]\n",
    "    ```\n",
    "    THEANO_FLAGS=mode=FAST_RUN,device=cudaX,floatX=float32,dnn.enabled=False jupyter lab --no-browser .\n",
    "    ```\n",
    "\n",
    "- Using the CPU [not recommended, runtimes can exceed several hours/days depending on the hardware]\n",
    "    ```\n",
    "    THEANO_FLAGS=mode=FAST_RUN,device=cpu,floatX=float32,dnn.enabled=False jupyter lab --no-browser .\n",
    "    ```"
   ]
  },
  {
   "cell_type": "code",
   "execution_count": 1,
   "metadata": {},
   "outputs": [
    {
     "name": "stderr",
     "output_type": "stream",
     "text": [
      "Using Theano backend.\n",
      "Can not use cuDNN on context None: Disabled by dnn.enabled flag\n",
      "Mapped name None to device cuda0: NVIDIA TITAN RTX (0000:81:00.0)\n"
     ]
    },
    {
     "name": "stdout",
     "output_type": "stream",
     "text": [
      "Error: /tmp/qab_5801.log - No such file or directory.\n"
     ]
    }
   ],
   "source": [
    "import os\n",
    "import sys\n",
    "import multiprocessing\n",
    "from config.experiment import options\n",
    "import warnings\n",
    "warnings.filterwarnings('ignore')\n",
    "import time\n",
    "import numpy as np\n",
    "import setproctitle as spt\n",
    "from tqdm import tqdm\n",
    "\n",
    "os.environ[\"KERAS_BACKEND\"] = \"theano\"\n",
    "\n",
    "# deepFCD imports\n",
    "from models.noel_models_keras import *\n",
    "from keras.models import load_model\n",
    "from keras import backend as K\n",
    "from utils.metrics import *\n",
    "from utils.base import *\n",
    "\n",
    "# deepMask imports\n",
    "import torch\n",
    "from mo_dots import Data\n",
    "from deepMask.app.utils.data import *\n",
    "from deepMask.app.utils.deepmask import *\n",
    "from deepMask.app.utils.image_processing import noelImageProcessor\n",
    "import deepMask.app.vnet as vnet"
   ]
  },
  {
   "cell_type": "markdown",
   "metadata": {},
   "source": [
    "### Directory Organization\n",
    "```bash\n",
    "/data\n",
    "└── FCD_001/           # [this patient-specific directory is contained within ${IO_DIRECTORY}]\n",
    "    ├── noel_deepFCD_dropoutMC  # [deepFCD output images]\n",
    "    │   ├── FCD_001_noel_deepFCD_dropoutMC_prob_mean_0.nii.gz # [mean PROBABILITY image from CNN-1]\n",
    "    │   ├── FCD_001_noel_deepFCD_dropoutMC_prob_mean_1.nii.gz # [mean PROBABILITY image from CNN-2]\n",
    "    │   ├── FCD_001_noel_deepFCD_dropoutMC_prob_var_0.nii.gz  # [mean UNCERTAINTY image from CNN-1]\n",
    "    │   └── FCD_001_noel_deepFCD_dropoutMC_prob_var_1.nii.gz  # [mean UNCERTAINTY image from CNN-2]\n",
    "    ├── t1.nii.gz # [input #1: T1-weighted image]\n",
    "    └── t2.nii.gz # [input #2: T2-weighted FLAIR image]\n",
    "```"
   ]
  },
  {
   "cell_type": "markdown",
   "metadata": {},
   "source": [
    "#### Note: The below configuration assumes T1 and T2 contrasts are in their native sterotaxic space, and therefore, will be preprocessed before brain extraction and FCD detection.\n",
    "#### Preprocessing entails: 1) T1 and T1 co-registration to MNI template space, and 2) Non-homogeneity correction"
   ]
  },
  {
   "cell_type": "markdown",
   "metadata": {},
   "source": [
    "### Configuration"
   ]
  },
  {
   "cell_type": "code",
   "execution_count": 2,
   "metadata": {},
   "outputs": [
    {
     "name": "stdout",
     "output_type": "stream",
     "text": [
      "experiment: noel_deepFCD_dropoutMC\n"
     ]
    }
   ],
   "source": [
    "# global configuration\n",
    "args = Data()\n",
    "args.dir = '/data'\n",
    "args.id = 'FCD_001'\n",
    "args.brain_masking = True # set to True or any non-zero value for brain extraction or skull-removal, False otherwise\n",
    "args.preprocess = True # co-register T1 and T2 contrasts before brain extraction\n",
    "args.outdir =  os.path.join(args.dir, args.id)\n",
    "args.seed = 666\n",
    "\n",
    "args.t1_fname = 't1.nii.gz'\n",
    "args.t2_fname = 't2.nii.gz'\n",
    "args.t1 = os.path.join(args.outdir, args.t1_fname)\n",
    "args.t2 = os.path.join(args.outdir, args.t2_fname)\n",
    "cwd = os.getcwd()\n",
    "\n",
    "# deepFCD configuration\n",
    "K.set_image_dim_ordering('th')\n",
    "K.set_image_data_format('channels_first')  # TH dimension ordering in this code\n",
    "\n",
    "options['parallel_gpu'] = False\n",
    "modalities = ['T1', 'FLAIR']\n",
    "x_names = options['x_names']\n",
    "options['dropout_mc'] = True\n",
    "options['batch_size'] = 350000\n",
    "options['mini_batch_size'] = 2048\n",
    "options['load_checkpoint_1'] = True\n",
    "options['load_checkpoint_2'] = True\n",
    "\n",
    "# trained model weights based on 148 histologically-verified FCD subjects\n",
    "options['test_folder'] = args.dir\n",
    "options['weight_paths'] = os.path.join(cwd, 'weights')\n",
    "options['experiment'] = 'noel_deepFCD_dropoutMC'\n",
    "spt.setproctitle(options['experiment'])\n",
    "print(\"experiment: {}\".format(options['experiment']))"
   ]
  },
  {
   "cell_type": "code",
   "execution_count": 3,
   "metadata": {},
   "outputs": [
    {
     "name": "stdout",
     "output_type": "stream",
     "text": [
      "Skipping image preprocessing and brain masking, presumably images are co-registered, bias-corrected, and skull-stripped\n"
     ]
    }
   ],
   "source": [
    "if args.brain_masking:\n",
    "    # trained weights based on manually corrected masks from\n",
    "    # 153 patients with cortical malformations\n",
    "    args.inference = os.path.join(cwd, 'deepMask/app/weights', 'vnet_masker_model_best.pth.tar')\n",
    "    # resize all input images to this resolution matching training data\n",
    "    args.resize = (160,160,160)\n",
    "    args.use_gpu = False\n",
    "    args.cuda = torch.cuda.is_available() and args.use_gpu\n",
    "    torch.manual_seed(args.seed)\n",
    "    args.device_ids = list(range(torch.cuda.device_count()))\n",
    "    if args.cuda:\n",
    "        torch.cuda.manual_seed(args.seed)\n",
    "        print(\"build vnet, using GPU\")\n",
    "    else:\n",
    "        print(\"build vnet, using CPU\")\n",
    "    model = vnet.build_model(args)\n",
    "    template = os.path.join(cwd, 'deepMask/app/template', 'mni_icbm152_t1_tal_nlin_sym_09a.nii.gz')\n",
    "\n",
    "    # MRI pre-processing configuration\n",
    "    args.output_suffix = '_brain_final.nii.gz'\n",
    "    \n",
    "    noelImageProcessor(id=args.id, t1=args.t1, t2=args.t2, output_suffix=args.output_suffix, output_dir=args.outdir, template=template, usen3=True, args=args, model=model, preprocess=args.preprocess).pipeline()\n",
    "else:\n",
    "    print(\"Skipping image preprocessing and brain masking, presumably images are co-registered, bias-corrected, and skull-stripped\")"
   ]
  },
  {
   "cell_type": "markdown",
   "metadata": {},
   "source": [
    "### Initialize the CNN, and load the model weights from disk"
   ]
  },
  {
   "cell_type": "code",
   "execution_count": 4,
   "metadata": {},
   "outputs": [
    {
     "name": "stdout",
     "output_type": "stream",
     "text": [
      "loading DNN1, model[0]: /local_raid/data/ravnoor/02_docker/deepFCD/app/weights/noel_deepFCD_dropoutMC_model_1.h5 exists\n",
      "loading DNN2, model[1]: /local_raid/data/ravnoor/02_docker/deepFCD/app/weights/noel_deepFCD_dropoutMC_model_2.h5 exists\n",
      "_________________________________________________________________\n",
      "Layer (type)                 Output Shape              Param #   \n",
      "=================================================================\n",
      "input_2 (InputLayer)         (None, 2, 16, 16, 16)     0         \n",
      "_________________________________________________________________\n",
      "conv3d_4 (Conv3D)            (None, 48, 16, 16, 16)    2640      \n",
      "_________________________________________________________________\n",
      "batch_normalization_3 (Batch (None, 48, 16, 16, 16)    192       \n",
      "_________________________________________________________________\n",
      "dropout_4 (Dropout)          (None, 48, 16, 16, 16)    0         \n",
      "_________________________________________________________________\n",
      "max_pooling3d_4 (MaxPooling3 (None, 48, 8, 8, 8)       0         \n",
      "_________________________________________________________________\n",
      "conv3d_5 (Conv3D)            (None, 96, 8, 8, 8)       124512    \n",
      "_________________________________________________________________\n",
      "batch_normalization_4 (Batch (None, 96, 8, 8, 8)       384       \n",
      "_________________________________________________________________\n",
      "dropout_5 (Dropout)          (None, 96, 8, 8, 8)       0         \n",
      "_________________________________________________________________\n",
      "max_pooling3d_5 (MaxPooling3 (None, 96, 4, 4, 4)       0         \n",
      "_________________________________________________________________\n",
      "dropout_6 (Dropout)          (None, 96, 4, 4, 4)       0         \n",
      "_________________________________________________________________\n",
      "conv3d_6 (Conv3D)            (None, 2, 4, 4, 4)        5186      \n",
      "_________________________________________________________________\n",
      "max_pooling3d_6 (MaxPooling3 (None, 2, 1, 1, 1)        0         \n",
      "_________________________________________________________________\n",
      "flatten_2 (Flatten)          (None, 2)                 0         \n",
      "_________________________________________________________________\n",
      "activation_2 (Activation)    (None, 2)                 0         \n",
      "=================================================================\n",
      "Total params: 132,914\n",
      "Trainable params: 132,626\n",
      "Non-trainable params: 288\n",
      "_________________________________________________________________\n",
      "None\n"
     ]
    }
   ],
   "source": [
    "# initialize empty model\n",
    "model = None\n",
    "# initialize the CNN architecture\n",
    "model = off_the_shelf_model(options)\n",
    "\n",
    "load_weights = os.path.join(options['weight_paths'], 'noel_deepFCD_dropoutMC_model_1.h5')\n",
    "print(\"loading DNN1, model[0]: {} exists\".format(load_weights)) if os.path.isfile(load_weights) else sys.exit(\"model[0]: {} doesn't exist\".format(load_weights))\n",
    "model[0] = load_model(load_weights)\n",
    "\n",
    "load_weights = os.path.join(options['weight_paths'], 'noel_deepFCD_dropoutMC_model_2.h5')\n",
    "print(\"loading DNN2, model[1]: {} exists\".format(load_weights)) if os.path.isfile(load_weights) else sys.exit(\"model[1]: {} doesn't exist\".format(load_weights))\n",
    "model[1] = load_model(load_weights)\n",
    "print(model[1].summary())"
   ]
  },
  {
   "cell_type": "markdown",
   "metadata": {},
   "source": [
    "### Test the trained CNN model to get predictions"
   ]
  },
  {
   "cell_type": "code",
   "execution_count": 5,
   "metadata": {},
   "outputs": [
    {
     "name": "stderr",
     "output_type": "stream",
     "text": [
      "serving predictions using the trained model:   0%|\u001b[34m                                                                                     \u001b[0m| 0/1 [00:00<?, ?it/s]\u001b[0m"
     ]
    },
    {
     "name": "stdout",
     "output_type": "stream",
     "text": [
      "\n",
      "\n",
      "----------------------------------------------------------------------\n",
      "testing the model for scan: PX_012_2\n",
      "----------------------------------------------------------------------\n"
     ]
    },
    {
     "name": "stderr",
     "output_type": "stream",
     "text": [
      "\n",
      "predict_stochastic:   0%|\u001b[32m                                                                                                             \u001b[0m| 0/20 [00:00<?, ?it/s]\u001b[0m\u001b[A\n",
      "predict_stochastic:   5%|\u001b[32m#####                                                                                                \u001b[0m| 1/20 [00:36<11:39, 36.80s/it]\u001b[0m\u001b[A\n",
      "predict_stochastic:  10%|\u001b[32m##########1                                                                                          \u001b[0m| 2/20 [01:13<11:04, 36.90s/it]\u001b[0m\u001b[A\n",
      "predict_stochastic:  15%|\u001b[32m###############1                                                                                     \u001b[0m| 3/20 [01:50<10:29, 37.04s/it]\u001b[0m\u001b[A\n",
      "predict_stochastic:  20%|\u001b[32m####################2                                                                                \u001b[0m| 4/20 [02:28<09:54, 37.17s/it]\u001b[0m\u001b[A\n",
      "predict_stochastic:  25%|\u001b[32m#########################2                                                                           \u001b[0m| 5/20 [03:05<09:19, 37.27s/it]\u001b[0m\u001b[A\n",
      "predict_stochastic:  30%|\u001b[32m##############################3                                                                      \u001b[0m| 6/20 [03:43<08:43, 37.38s/it]\u001b[0m\u001b[A\n",
      "predict_stochastic:  35%|\u001b[32m###################################3                                                                 \u001b[0m| 7/20 [04:20<08:06, 37.45s/it]\u001b[0m\u001b[A\n",
      "predict_stochastic:  40%|\u001b[32m########################################4                                                            \u001b[0m| 8/20 [04:58<07:30, 37.52s/it]\u001b[0m\u001b[A\n",
      "predict_stochastic:  45%|\u001b[32m#############################################4                                                       \u001b[0m| 9/20 [05:36<06:53, 37.56s/it]\u001b[0m\u001b[A\n",
      "predict_stochastic:  50%|\u001b[32m##################################################                                                  \u001b[0m| 10/20 [06:13<06:15, 37.58s/it]\u001b[0m\u001b[A\n",
      "predict_stochastic:  55%|\u001b[32m#######################################################                                             \u001b[0m| 11/20 [06:51<05:38, 37.61s/it]\u001b[0m\u001b[A\n",
      "predict_stochastic:  60%|\u001b[32m############################################################                                        \u001b[0m| 12/20 [07:29<05:01, 37.63s/it]\u001b[0m\u001b[A\n",
      "predict_stochastic:  65%|\u001b[32m#################################################################                                   \u001b[0m| 13/20 [08:06<04:23, 37.64s/it]\u001b[0m\u001b[A\n",
      "predict_stochastic:  70%|\u001b[32m######################################################################                              \u001b[0m| 14/20 [08:44<03:45, 37.65s/it]\u001b[0m\u001b[A\n",
      "predict_stochastic:  75%|\u001b[32m###########################################################################                         \u001b[0m| 15/20 [09:22<03:08, 37.66s/it]\u001b[0m\u001b[A\n",
      "predict_stochastic:  80%|\u001b[32m################################################################################                    \u001b[0m| 16/20 [09:59<02:30, 37.65s/it]\u001b[0m\u001b[A\n",
      "predict_stochastic:  85%|\u001b[32m#####################################################################################               \u001b[0m| 17/20 [10:37<01:52, 37.66s/it]\u001b[0m\u001b[A\n",
      "predict_stochastic:  90%|\u001b[32m##########################################################################################          \u001b[0m| 18/20 [11:15<01:15, 37.68s/it]\u001b[0m\u001b[A\n",
      "predict_stochastic:  95%|\u001b[32m###############################################################################################     \u001b[0m| 19/20 [11:52<00:37, 37.68s/it]\u001b[0m\u001b[A\n",
      "predict_stochastic: 100%|\u001b[32m####################################################################################################\u001b[0m| 20/20 [12:30<00:00, 37.53s/it]\u001b[0m\u001b[A\n",
      "\n",
      "predict_stochastic:   0%|\u001b[32m                                                                                                             \u001b[0m| 0/20 [00:00<?, ?it/s]\u001b[0m\u001b[A\n",
      "predict_stochastic:   5%|\u001b[32m#####                                                                                                \u001b[0m| 1/20 [00:37<11:51, 37.42s/it]\u001b[0m\u001b[A\n",
      "predict_stochastic:  10%|\u001b[32m##########1                                                                                          \u001b[0m| 2/20 [01:14<11:15, 37.51s/it]\u001b[0m\u001b[A\n",
      "predict_stochastic:  15%|\u001b[32m###############1                                                                                     \u001b[0m| 3/20 [01:52<10:38, 37.55s/it]\u001b[0m\u001b[A\n",
      "predict_stochastic:  20%|\u001b[32m####################2                                                                                \u001b[0m| 4/20 [02:30<10:01, 37.57s/it]\u001b[0m\u001b[A\n",
      "predict_stochastic:  25%|\u001b[32m#########################2                                                                           \u001b[0m| 5/20 [03:07<09:23, 37.59s/it]\u001b[0m\u001b[A\n",
      "predict_stochastic:  30%|\u001b[32m##############################3                                                                      \u001b[0m| 6/20 [03:45<08:46, 37.61s/it]\u001b[0m\u001b[A\n",
      "predict_stochastic:  35%|\u001b[32m###################################3                                                                 \u001b[0m| 7/20 [04:23<08:09, 37.62s/it]\u001b[0m\u001b[A\n",
      "predict_stochastic:  40%|\u001b[32m########################################4                                                            \u001b[0m| 8/20 [05:00<07:31, 37.62s/it]\u001b[0m\u001b[A\n",
      "predict_stochastic:  45%|\u001b[32m#############################################4                                                       \u001b[0m| 9/20 [05:38<06:53, 37.62s/it]\u001b[0m\u001b[A\n",
      "predict_stochastic:  50%|\u001b[32m##################################################                                                  \u001b[0m| 10/20 [06:15<06:16, 37.61s/it]\u001b[0m\u001b[A\n",
      "predict_stochastic:  55%|\u001b[32m#######################################################                                             \u001b[0m| 11/20 [06:53<05:38, 37.62s/it]\u001b[0m\u001b[A\n",
      "predict_stochastic:  60%|\u001b[32m############################################################                                        \u001b[0m| 12/20 [07:31<05:00, 37.62s/it]\u001b[0m\u001b[A\n",
      "predict_stochastic:  65%|\u001b[32m#################################################################                                   \u001b[0m| 13/20 [08:08<04:23, 37.62s/it]\u001b[0m\u001b[A\n",
      "predict_stochastic:  70%|\u001b[32m######################################################################                              \u001b[0m| 14/20 [08:46<03:45, 37.62s/it]\u001b[0m\u001b[A\n",
      "predict_stochastic:  75%|\u001b[32m###########################################################################                         \u001b[0m| 15/20 [09:24<03:08, 37.62s/it]\u001b[0m\u001b[A\n",
      "predict_stochastic:  80%|\u001b[32m################################################################################                    \u001b[0m| 16/20 [10:01<02:30, 37.60s/it]\u001b[0m\u001b[A\n",
      "predict_stochastic:  85%|\u001b[32m#####################################################################################               \u001b[0m| 17/20 [10:39<01:52, 37.54s/it]\u001b[0m\u001b[A\n",
      "predict_stochastic:  90%|\u001b[32m##########################################################################################          \u001b[0m| 18/20 [11:16<01:14, 37.42s/it]\u001b[0m\u001b[A\n",
      "predict_stochastic:  95%|\u001b[32m###############################################################################################     \u001b[0m| 19/20 [11:53<00:37, 37.36s/it]\u001b[0m\u001b[A\n",
      "predict_stochastic: 100%|\u001b[32m####################################################################################################\u001b[0m| 20/20 [12:30<00:00, 37.53s/it]\u001b[0m\u001b[A\n",
      "\n",
      "predict_stochastic:   0%|\u001b[32m                                                                                                                                                                                                                                          \u001b[0m| 0/20 [00:00<?, ?it/s]\u001b[0m\u001b[A\n",
      "predict_stochastic:   5%|\u001b[32m###########3                                                                                                                                                                                                                      \u001b[0m| 1/20 [00:11<03:39, 11.54s/it]\u001b[0m\u001b[A\n",
      "predict_stochastic:  10%|\u001b[32m######################6                                                                                                                                                                                                           \u001b[0m| 2/20 [00:23<03:27, 11.52s/it]\u001b[0m\u001b[A\n",
      "predict_stochastic:  15%|\u001b[32m#################################9                                                                                                                                                                                                \u001b[0m| 3/20 [00:34<03:16, 11.53s/it]\u001b[0m\u001b[A\n",
      "predict_stochastic:  20%|\u001b[32m#############################################2                                                                                                                                                                                    \u001b[0m| 4/20 [00:46<03:04, 11.53s/it]\u001b[0m\u001b[A\n",
      "predict_stochastic:  25%|\u001b[32m########################################################5                                                                                                                                                                         \u001b[0m| 5/20 [00:57<02:52, 11.52s/it]\u001b[0m\u001b[A\n",
      "predict_stochastic:  30%|\u001b[32m###################################################################8                                                                                                                                                              \u001b[0m| 6/20 [01:09<02:41, 11.52s/it]\u001b[0m\u001b[A\n",
      "predict_stochastic:  35%|\u001b[32m###############################################################################1                                                                                                                                                  \u001b[0m| 7/20 [01:20<02:29, 11.53s/it]\u001b[0m\u001b[A\n",
      "predict_stochastic:  40%|\u001b[32m##########################################################################################4                                                                                                                                       \u001b[0m| 8/20 [01:32<02:18, 11.52s/it]\u001b[0m\u001b[A\n",
      "predict_stochastic:  45%|\u001b[32m#####################################################################################################7                                                                                                                            \u001b[0m| 9/20 [01:43<02:06, 11.52s/it]\u001b[0m\u001b[A\n",
      "predict_stochastic:  50%|\u001b[32m################################################################################################################5                                                                                                                \u001b[0m| 10/20 [01:55<01:55, 11.52s/it]\u001b[0m\u001b[A\n",
      "predict_stochastic:  55%|\u001b[32m###########################################################################################################################7                                                                                                     \u001b[0m| 11/20 [02:06<01:43, 11.55s/it]\u001b[0m\u001b[A\n",
      "predict_stochastic:  60%|\u001b[32m#######################################################################################################################################                                                                                          \u001b[0m| 12/20 [02:18<01:32, 11.59s/it]\u001b[0m\u001b[A\n",
      "predict_stochastic:  65%|\u001b[32m##################################################################################################################################################2                                                                              \u001b[0m| 13/20 [02:30<01:21, 11.61s/it]\u001b[0m\u001b[A\n",
      "predict_stochastic:  70%|\u001b[32m#############################################################################################################################################################5                                                                   \u001b[0m| 14/20 [02:41<01:09, 11.63s/it]\u001b[0m\u001b[A\n",
      "predict_stochastic:  75%|\u001b[32m########################################################################################################################################################################7                                                        \u001b[0m| 15/20 [02:53<00:58, 11.64s/it]\u001b[0m\u001b[A\n",
      "predict_stochastic:  80%|\u001b[32m####################################################################################################################################################################################                                             \u001b[0m| 16/20 [03:05<00:46, 11.65s/it]\u001b[0m\u001b[A\n",
      "predict_stochastic:  85%|\u001b[32m###############################################################################################################################################################################################2                                 \u001b[0m| 17/20 [03:16<00:34, 11.66s/it]\u001b[0m\u001b[A\n",
      "predict_stochastic:  90%|\u001b[32m##########################################################################################################################################################################################################5                      \u001b[0m| 18/20 [03:28<00:23, 11.66s/it]\u001b[0m\u001b[A\n",
      "predict_stochastic:  95%|\u001b[32m#####################################################################################################################################################################################################################7           \u001b[0m| 19/20 [03:40<00:11, 11.67s/it]\u001b[0m\u001b[A\n",
      "predict_stochastic: 100%|\u001b[32m#################################################################################################################################################################################################################################\u001b[0m| 20/20 [03:51<00:00, 11.60s/it]\u001b[0m\u001b[A\n",
      "\n",
      "predict_stochastic:   0%|\u001b[32m                                                                                                                                                                                                                                          \u001b[0m| 0/50 [00:00<?, ?it/s]\u001b[0m\u001b[A\n",
      "predict_stochastic:   2%|\u001b[32m####5                                                                                                                                                                                                                             \u001b[0m| 1/50 [00:24<19:46, 24.21s/it]\u001b[0m\u001b[A\n",
      "predict_stochastic:   4%|\u001b[32m#########                                                                                                                                                                                                                         \u001b[0m| 2/50 [00:48<19:23, 24.23s/it]\u001b[0m\u001b[A\n",
      "predict_stochastic:   6%|\u001b[32m#############5                                                                                                                                                                                                                    \u001b[0m| 3/50 [01:12<18:59, 24.25s/it]\u001b[0m\u001b[A\n",
      "predict_stochastic:   8%|\u001b[32m##################                                                                                                                                                                                                                \u001b[0m| 4/50 [01:36<18:35, 24.26s/it]\u001b[0m\u001b[A\n",
      "predict_stochastic:  10%|\u001b[32m######################6                                                                                                                                                                                                           \u001b[0m| 5/50 [02:01<18:12, 24.27s/it]\u001b[0m\u001b[A\n",
      "predict_stochastic:  12%|\u001b[32m###########################1                                                                                                                                                                                                      \u001b[0m| 6/50 [02:25<17:48, 24.28s/it]\u001b[0m\u001b[A\n",
      "predict_stochastic:  14%|\u001b[32m###############################6                                                                                                                                                                                                  \u001b[0m| 7/50 [02:49<17:24, 24.28s/it]\u001b[0m\u001b[A\n",
      "predict_stochastic:  16%|\u001b[32m####################################1                                                                                                                                                                                             \u001b[0m| 8/50 [03:14<17:00, 24.29s/it]\u001b[0m\u001b[A\n",
      "predict_stochastic:  18%|\u001b[32m########################################6                                                                                                                                                                                         \u001b[0m| 9/50 [03:38<16:36, 24.29s/it]\u001b[0m\u001b[A\n",
      "predict_stochastic:  20%|\u001b[32m#############################################                                                                                                                                                                                    \u001b[0m| 10/50 [04:02<16:11, 24.30s/it]\u001b[0m\u001b[A\n",
      "predict_stochastic:  22%|\u001b[32m#################################################5                                                                                                                                                                               \u001b[0m| 11/50 [04:27<15:47, 24.30s/it]\u001b[0m\u001b[A\n",
      "predict_stochastic:  24%|\u001b[32m######################################################                                                                                                                                                                           \u001b[0m| 12/50 [04:51<15:23, 24.31s/it]\u001b[0m\u001b[A\n",
      "predict_stochastic:  26%|\u001b[32m##########################################################5                                                                                                                                                                      \u001b[0m| 13/50 [05:15<14:59, 24.30s/it]\u001b[0m\u001b[A\n",
      "predict_stochastic:  28%|\u001b[32m###############################################################                                                                                                                                                                  \u001b[0m| 14/50 [05:40<14:35, 24.31s/it]\u001b[0m\u001b[A\n",
      "predict_stochastic:  30%|\u001b[32m###################################################################5                                                                                                                                                             \u001b[0m| 15/50 [06:04<14:10, 24.30s/it]\u001b[0m\u001b[A\n",
      "predict_stochastic:  32%|\u001b[32m########################################################################                                                                                                                                                         \u001b[0m| 16/50 [06:28<13:46, 24.30s/it]\u001b[0m\u001b[A\n",
      "predict_stochastic:  34%|\u001b[32m############################################################################5                                                                                                                                                    \u001b[0m| 17/50 [06:52<13:22, 24.31s/it]\u001b[0m\u001b[A\n",
      "predict_stochastic:  36%|\u001b[32m#################################################################################                                                                                                                                                \u001b[0m| 18/50 [07:17<12:57, 24.31s/it]\u001b[0m\u001b[A\n",
      "predict_stochastic:  38%|\u001b[32m#####################################################################################5                                                                                                                                           \u001b[0m| 19/50 [07:41<12:33, 24.31s/it]\u001b[0m\u001b[A\n",
      "predict_stochastic:  40%|\u001b[32m##########################################################################################                                                                                                                                       \u001b[0m| 20/50 [08:05<12:08, 24.30s/it]\u001b[0m\u001b[A\n",
      "predict_stochastic:  42%|\u001b[32m##############################################################################################5                                                                                                                                  \u001b[0m| 21/50 [08:30<11:44, 24.29s/it]\u001b[0m\u001b[A\n",
      "predict_stochastic:  44%|\u001b[32m###################################################################################################                                                                                                                              \u001b[0m| 22/50 [08:54<11:20, 24.29s/it]\u001b[0m\u001b[A\n",
      "predict_stochastic:  46%|\u001b[32m#######################################################################################################5                                                                                                                         \u001b[0m| 23/50 [09:18<10:56, 24.30s/it]\u001b[0m\u001b[A\n",
      "predict_stochastic:  48%|\u001b[32m############################################################################################################                                                                                                                     \u001b[0m| 24/50 [09:43<10:31, 24.29s/it]\u001b[0m\u001b[A\n",
      "predict_stochastic:  50%|\u001b[32m################################################################################################################5                                                                                                                \u001b[0m| 25/50 [10:07<10:07, 24.29s/it]\u001b[0m\u001b[A\n",
      "predict_stochastic:  52%|\u001b[32m#####################################################################################################################                                                                                                            \u001b[0m| 26/50 [10:31<09:43, 24.30s/it]\u001b[0m\u001b[A\n",
      "predict_stochastic:  54%|\u001b[32m#########################################################################################################################5                                                                                                       \u001b[0m| 27/50 [10:56<09:19, 24.34s/it]\u001b[0m\u001b[A\n",
      "predict_stochastic:  56%|\u001b[32m##############################################################################################################################                                                                                                   \u001b[0m| 28/50 [11:20<08:58, 24.47s/it]\u001b[0m\u001b[A\n",
      "predict_stochastic:  58%|\u001b[32m##################################################################################################################################5                                                                                              \u001b[0m| 29/50 [11:45<08:35, 24.56s/it]\u001b[0m\u001b[A\n",
      "predict_stochastic:  60%|\u001b[32m#######################################################################################################################################                                                                                          \u001b[0m| 30/50 [12:10<08:12, 24.61s/it]\u001b[0m\u001b[A\n",
      "predict_stochastic:  62%|\u001b[32m###########################################################################################################################################5                                                                                     \u001b[0m| 31/50 [12:35<07:48, 24.66s/it]\u001b[0m\u001b[A\n",
      "predict_stochastic:  64%|\u001b[32m################################################################################################################################################                                                                                 \u001b[0m| 32/50 [12:59<07:24, 24.69s/it]\u001b[0m\u001b[A\n",
      "predict_stochastic:  66%|\u001b[32m####################################################################################################################################################5                                                                            \u001b[0m| 33/50 [13:24<06:59, 24.71s/it]\u001b[0m\u001b[A\n",
      "predict_stochastic:  68%|\u001b[32m#########################################################################################################################################################                                                                        \u001b[0m| 34/50 [13:49<06:35, 24.71s/it]\u001b[0m\u001b[A\n",
      "predict_stochastic:  70%|\u001b[32m#############################################################################################################################################################5                                                                   \u001b[0m| 35/50 [14:14<06:10, 24.72s/it]\u001b[0m\u001b[A\n",
      "predict_stochastic:  72%|\u001b[32m##################################################################################################################################################################                                                               \u001b[0m| 36/50 [14:38<05:46, 24.74s/it]\u001b[0m\u001b[A\n",
      "predict_stochastic:  74%|\u001b[32m######################################################################################################################################################################5                                                          \u001b[0m| 37/50 [15:03<05:21, 24.75s/it]\u001b[0m\u001b[A\n",
      "predict_stochastic:  76%|\u001b[32m###########################################################################################################################################################################                                                      \u001b[0m| 38/50 [15:28<04:57, 24.76s/it]\u001b[0m\u001b[A\n",
      "predict_stochastic:  78%|\u001b[32m###############################################################################################################################################################################5                                                 \u001b[0m| 39/50 [15:53<04:32, 24.76s/it]\u001b[0m\u001b[A\n",
      "predict_stochastic:  80%|\u001b[32m####################################################################################################################################################################################                                             \u001b[0m| 40/50 [16:17<04:07, 24.76s/it]\u001b[0m\u001b[A\n",
      "predict_stochastic:  82%|\u001b[32m########################################################################################################################################################################################5                                        \u001b[0m| 41/50 [16:42<03:41, 24.63s/it]\u001b[0m\u001b[A\n",
      "predict_stochastic:  84%|\u001b[32m#############################################################################################################################################################################################                                    \u001b[0m| 42/50 [17:06<03:16, 24.53s/it]\u001b[0m\u001b[A\n",
      "predict_stochastic:  86%|\u001b[32m#################################################################################################################################################################################################5                               \u001b[0m| 43/50 [17:30<02:51, 24.47s/it]\u001b[0m\u001b[A\n",
      "predict_stochastic:  88%|\u001b[32m######################################################################################################################################################################################################                           \u001b[0m| 44/50 [17:55<02:26, 24.42s/it]\u001b[0m\u001b[A\n",
      "predict_stochastic:  90%|\u001b[32m##########################################################################################################################################################################################################5                      \u001b[0m| 45/50 [18:19<02:01, 24.39s/it]\u001b[0m\u001b[A\n",
      "predict_stochastic:  92%|\u001b[32m###############################################################################################################################################################################################################                  \u001b[0m| 46/50 [18:43<01:37, 24.36s/it]\u001b[0m\u001b[A\n",
      "predict_stochastic:  94%|\u001b[32m###################################################################################################################################################################################################################5             \u001b[0m| 47/50 [19:08<01:13, 24.33s/it]\u001b[0m\u001b[A\n",
      "predict_stochastic:  96%|\u001b[32m########################################################################################################################################################################################################################         \u001b[0m| 48/50 [19:32<00:48, 24.33s/it]\u001b[0m\u001b[A\n",
      "predict_stochastic:  98%|\u001b[32m############################################################################################################################################################################################################################5    \u001b[0m| 49/50 [19:56<00:24, 24.32s/it]\u001b[0m\u001b[A\n",
      "predict_stochastic: 100%|\u001b[32m#################################################################################################################################################################################################################################\u001b[0m| 50/50 [20:20<00:00, 24.42s/it]\u001b[0m\u001b[A\n",
      "serving predictions using the trained model: 100%|\u001b[34m███████████████████████████████████████████████████████████████████████████\u001b[0m| 1/1 [50:22<00:00, 3022.59s/it]\u001b[0m"
     ]
    },
    {
     "name": "stdout",
     "output_type": "stream",
     "text": [
      "----------------------------------------------------------------------\n",
      "time elapsed: ~ 50.0 minutes\n",
      "----------------------------------------------------------------------\n"
     ]
    },
    {
     "name": "stderr",
     "output_type": "stream",
     "text": [
      "\n"
     ]
    }
   ],
   "source": [
    "test_list = [args.id]\n",
    "\n",
    "files = [args.t1, args.t2]\n",
    "\n",
    "test_data = {}\n",
    "test_data = {f: {m: os.path.join(options['test_folder'], f, n) for m, n in zip(modalities, files)} for f in test_list}\n",
    "\n",
    "for _, scan in enumerate(tqdm(test_list, desc='serving predictions using the trained model', colour='blue')):\n",
    "    t_data = {}\n",
    "    t_data[scan] = test_data[scan]\n",
    "\n",
    "    options['pred_folder'] = os.path.join(options['test_folder'], scan, options['experiment'])\n",
    "    if not os.path.exists(options['pred_folder']):\n",
    "        os.mkdir(options['pred_folder'])\n",
    "\n",
    "    pred_mean_fname = os.path.join(options['pred_folder'], scan + '_prob_mean_1.nii.gz')\n",
    "    pred_var_fname = os.path.join(options['pred_folder'], scan + '_prob_var_1.nii.gz')\n",
    "\n",
    "    if np.logical_and(os.path.isfile(pred_mean_fname), os.path.isfile(pred_var_fname)):\n",
    "        print(\"prediction for {} already exists\".format(scan))\n",
    "        continue\n",
    "\n",
    "    options['test_scan'] = scan\n",
    "\n",
    "    start = time.time()\n",
    "    print('\\n')\n",
    "    print('-'*70)\n",
    "    print(\"testing the model for scan: {}\".format(scan))\n",
    "    print('-'*70)\n",
    "\n",
    "    test_model(model, t_data, options)\n",
    "\n",
    "    end = time.time()\n",
    "    diff = (end - start) // 60\n",
    "    print(\"-\"*70)\n",
    "    print(\"time elapsed: ~ {} minutes\".format(diff))\n",
    "    print(\"-\"*70)"
   ]
  },
  {
   "cell_type": "code",
   "execution_count": null,
   "metadata": {},
   "outputs": [],
   "source": []
  }
 ],
 "metadata": {
  "kernelspec": {
   "display_name": "Python 3 (ipykernel)",
   "language": "python",
   "name": "python3"
  },
  "language_info": {
   "codemirror_mode": {
    "name": "ipython",
    "version": 3
   },
   "file_extension": ".py",
   "mimetype": "text/x-python",
   "name": "python",
   "nbconvert_exporter": "python",
   "pygments_lexer": "ipython3",
   "version": "3.7.13"
  }
 },
 "nbformat": 4,
 "nbformat_minor": 4
}
